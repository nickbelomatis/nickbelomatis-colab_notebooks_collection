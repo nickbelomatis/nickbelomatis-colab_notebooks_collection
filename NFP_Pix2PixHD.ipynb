{
  "nbformat": 4,
  "nbformat_minor": 0,
  "metadata": {
    "colab": {
      "name": "NFP-Pix2PixHD.ipynb",
      "provenance": [],
      "toc_visible": true,
      "machine_shape": "hm",
      "include_colab_link": true
    },
    "kernelspec": {
      "name": "python3",
      "display_name": "Python 3"
    },
    "accelerator": "GPU"
  },
  "cells": [
    {
      "cell_type": "markdown",
      "metadata": {
        "id": "view-in-github",
        "colab_type": "text"
      },
      "source": [
        "<a href=\"https://colab.research.google.com/github/nickbelomatis/nickbelomatis-colab_notebooks_collection/blob/main/NFP_Pix2PixHD.ipynb\" target=\"_parent\"><img src=\"https://colab.research.google.com/assets/colab-badge.svg\" alt=\"Open In Colab\"/></a>"
      ]
    },
    {
      "cell_type": "markdown",
      "metadata": {
        "id": "VXoBaXRDKuMV"
      },
      "source": [
        "#Next Frame Prediction using Pix2PixHD\n",
        "\n",
        "By Derrick Schultz\n",
        "\n",
        "Forked repo and tutorial based on [JC Testud’s excellent repo and Medium](https://medium.com/@jctestud/video-generation-with-pix2pix-aed5b1b69f57) article.\n",
        "\n",
        "---\n",
        "\n",
        "\n",
        "If you find this notebook useful, consider signing up for my [Patreon](https://www.patreon.com/bustbright) or [YouTube channel](https://www.youtube.com/channel/UCaZuPdmZ380SFUMKHVsv_AA/join). You can also send me a one-time payment on [Venmo](https://venmo.com/Derrick-Schultz)."
      ]
    },
    {
      "cell_type": "markdown",
      "metadata": {
        "id": "xfOexYWJX3Pt"
      },
      "source": [
        "## Setup\n",
        "\n",
        "Let’s start by checking to see what GPU you’re assigned."
      ]
    },
    {
      "cell_type": "code",
      "metadata": {
        "colab": {
          "base_uri": "https://localhost:8080/"
        },
        "id": "KWUOiFvbUxPp",
        "outputId": "8d844323-fef4-4282-d364-06fb3a46ecd1"
      },
      "source": [
        "!nvidia-smi -L"
      ],
      "execution_count": null,
      "outputs": [
        {
          "output_type": "stream",
          "text": [
            "GPU 0: Tesla P100-PCIE-16GB (UUID: GPU-ffc4d9a8-ab15-946a-f5ab-57913e0112cb)\n"
          ],
          "name": "stdout"
        }
      ]
    },
    {
      "cell_type": "code",
      "metadata": {
        "id": "K--AsrIzpH58",
        "colab": {
          "base_uri": "https://localhost:8080/"
        },
        "outputId": "95739776-f434-4ef0-9d49-693bccae26b5"
      },
      "source": [
        "from google.colab import drive\n",
        "drive.mount('/content/drive', force_remount=True)"
      ],
      "execution_count": null,
      "outputs": [
        {
          "output_type": "stream",
          "text": [
            "Mounted at /content/drive\n"
          ],
          "name": "stdout"
        }
      ]
    },
    {
      "cell_type": "markdown",
      "metadata": {
        "id": "cUvLbCJtLqaV"
      },
      "source": [
        "## Install libraries and dependencies\n",
        "\n"
      ]
    },
    {
      "cell_type": "code",
      "metadata": {
        "id": "bQbRsmWdvjUo",
        "colab": {
          "base_uri": "https://localhost:8080/"
        },
        "outputId": "cc816167-5184-4ea6-d8bf-787440a2b6b7"
      },
      "source": [
        "import os\n",
        "if os.path.isdir(\"/content/drive/MyDrive/nfp-colab/pix2pixHD/\"):\n",
        "  %cd /content/drive/MyDrive/nfp-colab/pix2pixHD/\n",
        "else:\n",
        "  %cd /content/drive/MyDrive\n",
        "  !mkdir nfp-colab\n",
        "  %cd nfp-colab\n",
        "  !git clone -b video https://github.com/dvschultz/pix2pixHD.git\n",
        "  %cd pix2pixHD/\n",
        "\n",
        "!pip install dominate"
      ],
      "execution_count": null,
      "outputs": [
        {
          "output_type": "stream",
          "text": [
            "/content/drive/MyDrive/nfp-colab/pix2pixHD\n",
            "Collecting dominate\n",
            "  Downloading https://files.pythonhosted.org/packages/ef/a8/4354f8122c39e35516a2708746d89db5e339c867abbd8e0179bccee4b7f9/dominate-2.6.0-py2.py3-none-any.whl\n",
            "Installing collected packages: dominate\n",
            "Successfully installed dominate-2.6.0\n"
          ],
          "name": "stdout"
        }
      ]
    },
    {
      "cell_type": "markdown",
      "metadata": {
        "id": "uwg3rHYpJ4u7"
      },
      "source": [
        "### Update Repo\n",
        "In case I’ve made updates to the repository, run this cell to get the latest updates."
      ]
    },
    {
      "cell_type": "code",
      "metadata": {
        "id": "kQzMuTFZJ3Z0"
      },
      "source": [
        "%cd \"/content/drive/MyDrive/nfp-colab/pix2pixHD/\"\n",
        "!git config --global user.name \"test\"\n",
        "!git config --global user.email \"test@test.com\"\n",
        "!git stash\n",
        "!git fetch origin\n",
        "!git checkout origin/video -- options/base_options.py generate_video.py"
      ],
      "execution_count": null,
      "outputs": []
    },
    {
      "cell_type": "markdown",
      "metadata": {
        "id": "nzLGf05WXMFV"
      },
      "source": [
        "## Extract frames from video\n",
        "\n",
        "Upload a video to either Colab or Google Drive. I’d recommend Colab for speed."
      ]
    },
    {
      "cell_type": "code",
      "metadata": {
        "id": "lWRL2ty6N9LD"
      },
      "source": [
        "!python extract_frames.py -video /content/glitch-circle-white-720.mov -name glitch-circle-white_dataset -p2pdir . -width 1280 -height 736"
      ],
      "execution_count": null,
      "outputs": []
    },
    {
      "cell_type": "markdown",
      "metadata": {
        "id": "qL9BZkBA_QRR"
      },
      "source": [
        "## Train your model"
      ]
    },
    {
      "cell_type": "markdown",
      "metadata": {
        "id": "4X7qahzMX05u"
      },
      "source": [
        "### Initial training\n",
        "\n",
        "Note: if you have a large dataset, this may timeout initially (`ValueError: __len__() should return >= 0`). Give it a minute or two and run it again."
      ]
    },
    {
      "cell_type": "code",
      "metadata": {
        "id": "fzHBGVnUKEzE"
      },
      "source": [
        "!python train_video.py --name waves-2021 --dataroot ./datasets/waves-2021/ --save_epoch_freq 5 #--continue_train"
      ],
      "execution_count": null,
      "outputs": []
    },
    {
      "cell_type": "markdown",
      "metadata": {
        "id": "0GDg3CeW_1TD"
      },
      "source": [
        "### Continue Training"
      ]
    },
    {
      "cell_type": "code",
      "metadata": {
        "id": "F5q3dE9S_5eg"
      },
      "source": [
        "!python train_video.py --name waves-2021 --dataroot ./datasets/waves-2021/ --save_epoch_freq 5 --continue_train"
      ],
      "execution_count": null,
      "outputs": []
    },
    {
      "cell_type": "markdown",
      "metadata": {
        "id": "Jly_3OyBoGg2"
      },
      "source": [
        "##Generating Videos\n",
        "\n",
        "**Options for generation process**\n",
        "\n",
        "`--name`: Best practice is to have this match your training name\n",
        "\n",
        "`--dataset`: Path to dataset\n",
        "\n",
        "`--fps`: Framerate of the output video\n",
        "\n",
        "`--how_many`: Number of frames to produce (this divided by `fps` equals the length of the video in seconds)\n",
        "\n",
        "`--which_epoch`: By default this is `latest`. If you want to change that you can enter an integer, but it must match the number of a file in your `checkpoints` folder."
      ]
    },
    {
      "cell_type": "code",
      "metadata": {
        "id": "INVUtG-pt_F6"
      },
      "source": [
        "!python generate_video.py --name waves-2021 --dataroot ./datasets/waves-2021/ --fps 24 --how_many 600 --which_epoch latest"
      ],
      "execution_count": null,
      "outputs": []
    },
    {
      "cell_type": "markdown",
      "metadata": {
        "id": "pO985pHuWgh2"
      },
      "source": [
        "### Start From\n",
        "\n",
        "By default the model begins inference with the 50th frame in your dataset. You can change this with the `start_from` argument.\n",
        "\n",
        "`--start_from`: path to an image (this image must have the same dimensions as the model was trained on)\n"
      ]
    },
    {
      "cell_type": "code",
      "metadata": {
        "id": "ARYO3mShVt4b"
      },
      "source": [
        "!python generate_video.py --name waves-2021 --dataroot ./datasets/waves-2021/ --fps 24 --how_many 600 --which_epoch latest --start_from "
      ],
      "execution_count": null,
      "outputs": []
    },
    {
      "cell_type": "markdown",
      "metadata": {
        "id": "xQVddq7RV-3B"
      },
      "source": [
        "### Zoom Level\n",
        "\n",
        "You may notice that some models end up in a place of statis—after a while the frames don’t change. One way to perturb this state is with zoom_lvl. This crops in on each frame at inference to “stir” up the input.\n",
        "\n",
        "`--zoom_lvl`: enter a pixel value (as an integer). This designates the amount of zoom per frame."
      ]
    },
    {
      "cell_type": "code",
      "metadata": {
        "id": "jBLu4ZTRV7y9"
      },
      "source": [
        "!python generate_video.py --name waves-2021 --dataroot ./datasets/waves-2021/ --fps 24 --how_many 600 --which_epoch latest --zoom_lvl 10"
      ],
      "execution_count": null,
      "outputs": []
    },
    {
      "cell_type": "markdown",
      "metadata": {
        "id": "spKsAh0DVpGw"
      },
      "source": [
        "##Experimental"
      ]
    },
    {
      "cell_type": "code",
      "metadata": {
        "id": "UiaLMDmdDG3t"
      },
      "source": [
        "import os\n",
        "\n",
        "def processFolder(folder, epoch = 10, frameCount = 240, skipCount = 1):\n",
        "  files = os.listdir(folder)\n",
        "\n",
        "  count = 0\n",
        "  for f in files:\n",
        "    \n",
        "    if (count % skipCount == 0):\n",
        "      print(f)\n",
        "      if epoch == 'latest':\n",
        "        command = 'python generate_video.py --name glitch_white_circle --dataroot ./datasets/glitch-circle-white_dataset/ --fps 60 --how_many %i --which_epoch latest --start_from %s/%s' % ( frameCount, folder, f)\n",
        "      else:\n",
        "        command = 'python generate_video.py --name glitch_white_circle --dataroot ./datasets/glitch-circle-white_dataset/ --fps 24 --how_many %i --which_epoch %i --start_from %s/%s' % ( frameCount, epoch, folder, f)\n",
        "      os.system(command)\n",
        "    count += 1\n",
        "\n",
        "processFolder('./datasets/white/train_frames',1,600,3050)"
      ],
      "execution_count": null,
      "outputs": []
    }
  ]
}